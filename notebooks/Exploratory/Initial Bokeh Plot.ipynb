{
 "cells": [
  {
   "cell_type": "code",
   "execution_count": null,
   "metadata": {},
   "outputs": [],
   "source": [
    "import pandas as pd\n",
    "import numpy as np\n",
    "\n",
    "from bokeh.plotting import figure, output_file, show, ColumnDataSource\n",
    "from bokeh.palettes import viridis, brewer, magma, d3, cividis\n",
    "from bokeh.models import HoverTool, LinearColorMapper\n",
    "from bokeh.models.tickers import FixedTicker\n",
    "from bokeh.transform import linear_cmap, factor_cmap\n"
   ]
  },
  {
   "cell_type": "markdown",
   "metadata": {},
   "source": [
    "## Read in and merge data"
   ]
  },
  {
   "cell_type": "code",
   "execution_count": null,
   "metadata": {},
   "outputs": [],
   "source": [
    "df = pd.read_excel('../../data/raw/RVMS_Current_Property_and_BIZ_Owner_List - vCurrent (1).xlsx',\n",
    "                  sheet_name = 'Biz & Prop Owner MAIN list')\n",
    "\n",
    "naics = pd.read_excel('../../data/raw/2-6 digit_2017_Codes.xlsx')"
   ]
  },
  {
   "cell_type": "code",
   "execution_count": null,
   "metadata": {},
   "outputs": [],
   "source": [
    "df['NAICS Code'] = df['NAICS Code'].astype(object)"
   ]
  },
  {
   "cell_type": "code",
   "execution_count": null,
   "metadata": {},
   "outputs": [],
   "source": [
    "df = df.merge(naics, left_on='NAICS Code', right_on='2017 NAICS US   Code', how='inner')"
   ]
  },
  {
   "cell_type": "code",
   "execution_count": null,
   "metadata": {},
   "outputs": [],
   "source": [
    "df = df[pd.notnull(df['NAICS Code'])]"
   ]
  },
  {
   "cell_type": "code",
   "execution_count": null,
   "metadata": {},
   "outputs": [],
   "source": [
    "df.columns = [c.replace(' ', '_') for c in df.columns]"
   ]
  },
  {
   "cell_type": "markdown",
   "metadata": {},
   "source": [
    "## Generate fake data for viz purposes"
   ]
  },
  {
   "cell_type": "code",
   "execution_count": null,
   "metadata": {},
   "outputs": [],
   "source": [
    "n_rows = df.shape[0]\n",
    "p = 0.25\n",
    "\n",
    "cols = ['R2B_email_sponsorship_promotion', 'R2B_provide_resources', 'R2B_liason', 'B2R_event_participation',\n",
    "       'B2R_sponsorship_donation', 'B2R_share_business_information', 'B2R_volunteer', 'B2R_use_RVMS_resources']\n",
    "\n",
    "for col in cols:\n",
    "    df[col] = np.random.binomial(n=1, p=p, size=n_rows)\n",
    "    \n",
    "df['R2B_score'] = df.filter(like='R2B').apply('sum',axis=1)\n",
    "df['B2R_score'] = df.filter(like='B2R').apply('sum',axis=1)\n",
    "\n",
    "df['R2B_score_noise'] = df['R2B_score'] + np.random.uniform(low=0, high = 0.5, size=n_rows)\n",
    "df['B2R_score_noise'] = df['B2R_score'] + np.random.uniform(low=0, high = 0.5, size=n_rows)"
   ]
  },
  {
   "cell_type": "markdown",
   "metadata": {},
   "source": [
    "## Visualization"
   ]
  },
  {
   "cell_type": "code",
   "execution_count": null,
   "metadata": {},
   "outputs": [],
   "source": [
    "# Colors\n",
    "cats = df['NAICS_Code'].astype(str).str[:2]\n",
    "colors = viridis(len(cats.unique()))\n",
    "colormap = {val: colors[i] for i, val in enumerate(cats.unique())}\n",
    "df['color'] = [colormap[x] for x in cats]\n",
    "\n",
    "# Radius\n",
    "df['radius'] = 0.05\n",
    "\n",
    "# Set up data source\n",
    "source = ColumnDataSource(df)\n",
    "\n",
    "# Hover tool\n",
    "TOOLTIPS = [\n",
    "    (\"index\", \"$index\"),\n",
    "    (\"Business\", \"@Business_Name\"),\n",
    "    (\"Industry\", \"@2017_NAICS_US_Title\"),\n",
    "    ('Business to RVMS Score', \"@B2R_score\"),\n",
    "    ('RVMS to Business Score', \"@R2B_score\"),\n",
    "]\n",
    "\n",
    "p = figure(title=\"Business Engagement Matrix\", x_axis_label='Business to RVMS', y_axis_label='RVMS to Business',\n",
    "          x_range=(0, 6), y_range=(0, 4), tooltips=TOOLTIPS)\n",
    "\n",
    "# Ticks\n",
    "p.xaxis.ticker = FixedTicker(ticks=[1, 2, 3, 4, 5])\n",
    "p.yaxis.ticker = FixedTicker(ticks=[1, 2, 3, 4])\n",
    "\n",
    "# Grid lines\n",
    "p.xgrid.ticker = FixedTicker(ticks=[1,2,3,4,5])\n",
    "p.ygrid.ticker = FixedTicker(ticks=[1,2,3,4])\n",
    "\n",
    "p.scatter(x='B2R_score_noise', y='R2B_score_noise', fill_color='color', radius='radius', source=source)"
   ]
  },
  {
   "cell_type": "code",
   "execution_count": null,
   "metadata": {},
   "outputs": [],
   "source": [
    "show(p)"
   ]
  },
  {
   "cell_type": "code",
   "execution_count": null,
   "metadata": {},
   "outputs": [],
   "source": [
    "from bokeh.plotting import figure, output_file, save"
   ]
  },
  {
   "cell_type": "code",
   "execution_count": null,
   "metadata": {},
   "outputs": [],
   "source": [
    "output_file(\"../../data/output/matrix.html\")\n",
    "save(p)"
   ]
  },
  {
   "cell_type": "code",
   "execution_count": null,
   "metadata": {},
   "outputs": [],
   "source": []
  }
 ],
 "metadata": {
  "kernelspec": {
   "display_name": "Python 3",
   "language": "python",
   "name": "python3"
  },
  "language_info": {
   "codemirror_mode": {
    "name": "ipython",
    "version": 3
   },
   "file_extension": ".py",
   "mimetype": "text/x-python",
   "name": "python",
   "nbconvert_exporter": "python",
   "pygments_lexer": "ipython3",
   "version": "3.7.0"
  }
 },
 "nbformat": 4,
 "nbformat_minor": 2
}
